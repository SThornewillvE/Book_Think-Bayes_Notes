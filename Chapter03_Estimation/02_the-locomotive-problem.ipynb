{
 "cells": [
  {
   "cell_type": "markdown",
   "metadata": {},
   "source": [
    "# The Locomotive Problem\n",
    "\n",
    "\"A railroad numbers its locomotives in order of 1 to N. One day you see one with the number 60. Estimate how many locomotives the railroad has.\"\n",
    "\n",
    "It should be noted that this would baffle most frequentist statisticians, which require many observations in order to converge on good estimates. This is a good example of where Bayesian statistics shines.\n",
    "\n",
    "Note that my naive solution was 180, this was because if there already exist 60 then there's a possibility that it will be at least 60 more. This also somehow adds up with intution. (Though it is a really naive approach.)"
   ]
  },
  {
   "cell_type": "code",
   "execution_count": 1,
   "metadata": {},
   "outputs": [],
   "source": [
    "import numpy as np\n",
    "from thinkbayes2 import Suite, Pmf\n",
    "from dice import Dice\n",
    "import matplotlib.pyplot as plt\n",
    "\n",
    "\n",
    "plt.style.use(\"seaborn\")\n",
    "\n",
    "%matplotlib inline"
   ]
  },
  {
   "cell_type": "markdown",
   "metadata": {},
   "source": [
    "Step one is to find a number of hypotheses we are willing to test. Let's say there are between 1 and 1000 trains..."
   ]
  },
  {
   "cell_type": "code",
   "execution_count": 2,
   "metadata": {},
   "outputs": [],
   "source": [
    "hypos = range(1, 1001)"
   ]
  },
  {
   "cell_type": "markdown",
   "metadata": {},
   "source": [
    "Next, we need to design our suite"
   ]
  },
  {
   "cell_type": "code",
   "execution_count": 3,
   "metadata": {},
   "outputs": [],
   "source": [
    "class Train(Suite):\n",
    "    def Likelihood(self, data, hypo):\n",
    "        if hypo < data:\n",
    "            return 0\n",
    "        else:\n",
    "            return 1.0/hypo"
   ]
  },
  {
   "cell_type": "markdown",
   "metadata": {},
   "source": [
    "This is similar to the dice problem before, if we observe a train of 60 then the hypothesis that there are only 59 or fewer trains is impossible.\n",
    "\n",
    "Furthermore, for each number after 59, the probability of seeing that train is 1/60, and so that is the probability we return."
   ]
  },
  {
   "cell_type": "code",
   "execution_count": 4,
   "metadata": {},
   "outputs": [],
   "source": [
    "suite = Train(hypos)\n",
    "suite.Update(60);"
   ]
  },
  {
   "cell_type": "code",
   "execution_count": 5,
   "metadata": {},
   "outputs": [],
   "source": [
    "x = []\n",
    "y = []\n",
    "\n",
    "for hypothesis, probability in suite.Items():\n",
    "    x.append(hypothesis)\n",
    "    y.append(probability)"
   ]
  },
  {
   "cell_type": "code",
   "execution_count": 6,
   "metadata": {},
   "outputs": [
    {
     "data": {
      "image/png": "[encoded data removed]",
      "text/plain": [
       "<Figure size 432x288 with 1 Axes>"
      ]
     },
     "metadata": {},
     "output_type": "display_data"
    }
   ],
   "source": [
    "fig = plt.figure()\n",
    "fig.patch.set_facecolor('xkcd:white')\n",
    "plt.plot(x, y)\n",
    "plt.show()"
   ]
  },
  {
   "cell_type": "markdown",
   "metadata": {},
   "source": [
    "By the logic we defined in the suite, although it seems counter intuitive, the number of likely trains in this company is actually 60, but that doesn't jive well with intuition.\n",
    "\n",
    "But maybe we want to rather find the mean of this distribution."
   ]
  },
  {
   "cell_type": "code",
   "execution_count": 7,
   "metadata": {},
   "outputs": [
    {
     "data": {
      "text/plain": [
       "333.41989326371095"
      ]
     },
     "execution_count": 7,
     "metadata": {},
     "output_type": "execute_result"
    }
   ],
   "source": [
    "suite.Mean()"
   ]
  },
  {
   "cell_type": "markdown",
   "metadata": {},
   "source": [
    "If we wanted to minimize error then it would be best to quote this value above of 333 if you had to guess multiple times."
   ]
  },
  {
   "cell_type": "markdown",
   "metadata": {},
   "source": [
    "## What about the prior?\n",
    "\n",
    "Here we made the assumption that there were a maximum of 1000 locomotives, but this may or may not be true.\n",
    "\n",
    "Note that we used a uniform prior to come to our conclusion. However, the number of companies that actually have that many trains falls off exponentially and we should model our distribution as such.\n",
    "\n",
    "Note that the mean shown above of 333, changes depending on where your upper limit is. So it's not necessarily a good number to quote in itself either."
   ]
  },
  {
   "cell_type": "code",
   "execution_count": 8,
   "metadata": {},
   "outputs": [],
   "source": [
    "class Train2(Dice):\n",
    "    def __init__(self, hypos, alpha=1.0):\n",
    "        Pmf.__init__(self)\n",
    "        for hypo in hypos:\n",
    "            self.Set(hypo, hypo**(-alpha))\n",
    "        self.Normalize()\n",
    "    \n",
    "    def Likelihood(self, data, hypo):\n",
    "        if hypo < data:\n",
    "            return 0\n",
    "        else:\n",
    "            return 1.0/hypo"
   ]
  },
  {
   "cell_type": "code",
   "execution_count": 9,
   "metadata": {},
   "outputs": [
    {
     "name": "stdout",
     "output_type": "stream",
     "text": [
      "143.81231982097896\n",
      "178.54735317971574\n",
      "215.56892550615513\n"
     ]
    }
   ],
   "source": [
    "for i in [501,1001,2001]:\n",
    "    hypos = range(1, i)\n",
    "    suite2 = Train2(hypos)\n",
    "    suite2.Update(60);\n",
    "    print(suite2.Mean())"
   ]
  },
  {
   "cell_type": "markdown",
   "metadata": {},
   "source": [
    "We can see here that with an exponential fall off in our prior, we can reach a mean of between 131 and 134\n",
    "\n",
    "This is fortunate because it means that my initial guess of 120 wasn't too bad!"
   ]
  },
  {
   "cell_type": "markdown",
   "metadata": {},
   "source": [
    "## Credible Intervals\n",
    "\n",
    "We can even estimate the error in our estimation by using credible intervals. (Not the same as confidence intervals from frequentist statistics.) We want to find two values such that there's a 90% chance that the unknown value falls between them. "
   ]
  },
  {
   "cell_type": "code",
   "execution_count": 10,
   "metadata": {},
   "outputs": [],
   "source": [
    "def Percentile(pmf, percentage):\n",
    "    p = percentage/100\n",
    "    total = 0\n",
    "    for val, prob in pmf.Items():\n",
    "        total += prob\n",
    "        if total >= p:\n",
    "            return val"
   ]
  },
  {
   "cell_type": "code",
   "execution_count": 11,
   "metadata": {},
   "outputs": [
    {
     "name": "stdout",
     "output_type": "stream",
     "text": [
      "(63, 760)\n"
     ]
    }
   ],
   "source": [
    "interval = Percentile(suite2, 5), Percentile(suite2, 95)\n",
    "print(interval)"
   ]
  },
  {
   "cell_type": "code",
   "execution_count": null,
   "metadata": {},
   "outputs": [],
   "source": []
  }
 ],
 "metadata": {
  "kernelspec": {
   "display_name": "Python 3",
   "language": "python",
   "name": "python3"
  },
  "language_info": {
   "codemirror_mode": {
    "name": "ipython",
    "version": 3
   },
   "file_extension": ".py",
   "mimetype": "text/x-python",
   "name": "python",
   "nbconvert_exporter": "python",
   "pygments_lexer": "ipython3",
   "version": "3.7.1"
  }
 },
 "nbformat": 4,
 "nbformat_minor": 2
}
