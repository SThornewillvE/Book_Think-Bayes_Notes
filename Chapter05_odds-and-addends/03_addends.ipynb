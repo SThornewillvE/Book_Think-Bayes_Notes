{
 "cells": [
  {
   "cell_type": "markdown",
   "metadata": {},
   "source": [
    "# Addends\n",
    "\n",
    "If we have a system where we need to add multiple random numbers together then we'll get a distribution. How do we model this distribution?\n",
    "\n",
    "Think about DnD, where your stat distribution for a character is determined by summing 3xD6 dice together. How can we see this distribution?\n",
    "\n",
    "1. By Simulation (We roll a bunch of 3xD6 and see what the result is after many rolls)\n",
    "2. By Enumeration (We find all possible combinations and see what the distribution is)\n",
    "\n",
    "The advantage of 1 is that if the enumeration is difficult then we can simply simulate it in fewer steps using the law of large numbers. But if we can use enumeration because it requires less steps than simulation then it is more precise. "
   ]
  },
  {
   "cell_type": "code",
   "execution_count": 1,
   "metadata": {},
   "outputs": [],
   "source": [
    "# Import packages\n",
    "from thinkbayes2 import Pmf, \n",
    "import numpy as np\n",
    "import matplotlib.pyplot as plt\n",
    "\n",
    "plt.style.use(\"seaborn\")"
   ]
  },
  {
   "cell_type": "code",
   "execution_count": 2,
   "metadata": {},
   "outputs": [],
   "source": [
    "# Define dice\n",
    "class Die(Pmf):\n",
    "    def __init__(self, sides):\n",
    "        Pmf.__init__(self)\n",
    "        for x in range(1, sides+1):\n",
    "            self.Set(x, 1)\n",
    "        self.Normalize()"
   ]
  },
  {
   "cell_type": "code",
   "execution_count": 3,
   "metadata": {},
   "outputs": [],
   "source": [
    "# Create D6\n",
    "d6 = Die(6)"
   ]
  },
  {
   "cell_type": "code",
   "execution_count": 4,
   "metadata": {},
   "outputs": [],
   "source": [
    "dice = [d6] * 3\n",
    "three = SampleSum(dice, 1000)"
   ]
  },
  {
   "cell_type": "markdown",
   "metadata": {},
   "source": [
    "`SampleSum` takes a list of distributions (Pmf, Cdf) and the sample size and generates n rnadom sums and returns their distribution as a Pmf."
   ]
  },
  {
   "cell_type": "code",
   "execution_count": 5,
   "metadata": {},
   "outputs": [],
   "source": [
    "# Get Data to plot result\n",
    "x = []\n",
    "y = []\n",
    "\n",
    "for hypothesis, probability in three.Items():\n",
    "    x.append(hypothesis)\n",
    "    y.append(probability)"
   ]
  },
  {
   "cell_type": "code",
   "execution_count": 6,
   "metadata": {},
   "outputs": [
    {
     "data": {
      "image/png": "[encoded data removed]",
      "text/plain": [
       "<Figure size 720x432 with 1 Axes>"
      ]
     },
     "metadata": {},
     "output_type": "display_data"
    }
   ],
   "source": [
    "fix, ax = plt.subplots(figsize=(10, 6), edgecolor='k', facecolor='white')\n",
    "plt.bar(x, y)\n",
    "plt.xlabel(\"Sub of three d6\")\n",
    "plt.ylabel(\"Probability\")\n",
    "plt.show()"
   ]
  }
 ],
 "metadata": {
  "kernelspec": {
   "display_name": "Python 3",
   "language": "python",
   "name": "python3"
  },
  "language_info": {
   "codemirror_mode": {
    "name": "ipython",
    "version": 3
   },
   "file_extension": ".py",
   "mimetype": "text/x-python",
   "name": "python",
   "nbconvert_exporter": "python",
   "pygments_lexer": "ipython3",
   "version": "3.7.1"
  }
 },
 "nbformat": 4,
 "nbformat_minor": 2
}
