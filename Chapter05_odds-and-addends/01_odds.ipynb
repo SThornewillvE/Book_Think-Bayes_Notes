{
 "cells": [
  {
   "cell_type": "markdown",
   "metadata": {},
   "source": [
    "# Odds\n",
    "\n",
    "One of the difficulties with bayesian stats is that we need to divide by a normalisation constant, the total likelihood.\n",
    "\n",
    "$$ posterior = \\frac{likelihood * prior}{total likelihood}$$\n",
    "\n",
    "That total likelihood constant can be difficult to calculate. But, if we use odds then we can eliminate it from calculations.\n",
    "\n",
    "$$odds = \\frac{P(X)}{P(¬X)}$$\n",
    "\n",
    "$$probability = \\frac{odds}{odds + 1}$$\n",
    "\n",
    "As an example, if there is a game that we have 10% chance of winning then the odds are 2:1..."
   ]
  },
  {
   "cell_type": "code",
   "execution_count": 1,
   "metadata": {},
   "outputs": [],
   "source": [
    "def Odds(x_for, x_against):\n",
    "    return x_for / x_against\n",
    "\n",
    "def Probability(odds):\n",
    "    return odds / (odds + 1)"
   ]
  },
  {
   "cell_type": "code",
   "execution_count": 2,
   "metadata": {},
   "outputs": [
    {
     "data": {
      "text/plain": [
       "0.5"
      ]
     },
     "execution_count": 2,
     "metadata": {},
     "output_type": "execute_result"
    }
   ],
   "source": [
    "od = Odds(1, 2)\n",
    "\n",
    "od"
   ]
  },
  {
   "cell_type": "code",
   "execution_count": 3,
   "metadata": {},
   "outputs": [
    {
     "data": {
      "text/plain": [
       "0.3333333333333333"
      ]
     },
     "execution_count": 3,
     "metadata": {},
     "output_type": "execute_result"
    }
   ],
   "source": [
    "Probability(od)"
   ]
  },
  {
   "cell_type": "markdown",
   "metadata": {},
   "source": [
    "Note that the odds are 2:1 which ends up being 0.5 i.e. the change we win is half the size of the chance to lose but but the probability of winning is only 1/3. (Out of all possible outcomes, we only win in one outcome.)"
   ]
  },
  {
   "cell_type": "markdown",
   "metadata": {},
   "source": [
    "## Odds in Bayes Theorem\n",
    "\n",
    "As I noted above, we can use a fraction of two probabilities to simplify bayes theorem.\n",
    "\n",
    "$$\\frac{P(A|D)}{P(B|D)} = \\frac{P(A) * P(D|A)}{P(B) * P(D|B)} $$\n",
    "\n",
    "If A and B are mutually exclusive and collectively exhaustive then the odds are calculated as such...\n",
    "\n",
    "$$o(A|D) = o(A) \\frac{p(D|A)}{p(D|B)}$$\n",
    "\n",
    "## Example: Cookie Problem\n",
    "\n",
    "Suppose again that there are two powls of cookies:\n",
    "\n",
    "bowl | vanilla | chocolate\n",
    "--- | --- | ---\n",
    "1 | 30 | 10\n",
    "2 | 20 |20\n",
    "\n",
    "If we choose one cookie that is vanilla what is the probability that it came from bowl 1?"
   ]
  },
  {
   "cell_type": "code",
   "execution_count": 4,
   "metadata": {},
   "outputs": [
    {
     "data": {
      "text/plain": [
       "1.0"
      ]
     },
     "execution_count": 4,
     "metadata": {},
     "output_type": "execute_result"
    }
   ],
   "source": [
    "# Prior prob of choosing 1 is 0.5\n",
    "o_A = 0.5 / (1-0.5)\n",
    "\n",
    "o_A  #i.e. 1:1"
   ]
  },
  {
   "cell_type": "code",
   "execution_count": 5,
   "metadata": {},
   "outputs": [
    {
     "data": {
      "text/plain": [
       "1.5"
      ]
     },
     "execution_count": 5,
     "metadata": {},
     "output_type": "execute_result"
    }
   ],
   "source": [
    "p_D_giv_A = 3/4\n",
    "p_D_giv_B = 2/4\n",
    "\n",
    "# Therefore o(A|D) is...\n",
    "o_A * (p_D_giv_A / p_D_giv_B)"
   ]
  },
  {
   "cell_type": "markdown",
   "metadata": {},
   "source": [
    "The above answer is 1.5:1 odds, otherwise written as 3:2. \n",
    "\n",
    "This probability corresponds to $3/(3+2) = 3/5$"
   ]
  }
 ],
 "metadata": {
  "kernelspec": {
   "display_name": "Python 3",
   "language": "python",
   "name": "python3"
  },
  "language_info": {
   "codemirror_mode": {
    "name": "ipython",
    "version": 3
   },
   "file_extension": ".py",
   "mimetype": "text/x-python",
   "name": "python",
   "nbconvert_exporter": "python",
   "pygments_lexer": "ipython3",
   "version": "3.7.1"
  }
 },
 "nbformat": 4,
 "nbformat_minor": 2
}
