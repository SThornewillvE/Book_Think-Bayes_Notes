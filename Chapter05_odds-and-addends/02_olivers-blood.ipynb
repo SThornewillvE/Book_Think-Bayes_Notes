{
 "cells": [
  {
   "cell_type": "markdown",
   "metadata": {},
   "source": [
    "# Exercise: Oliver's Blood\n",
    "\n",
    "Two people have left traces of their own blood at the scene of a crime. A suspect, Oliver, is tested and found to have 'O' type blood. The blood groups of the two traces are found to be of type 'O' (pobability of 60% in population) and 'AB' (pobability of 1% in population). Do these data give evidence in favor of the proposition that oliver was one of the people who left blood at the scene?\n",
    "\n",
    "We can use the odds form of bayes theorem to provide a way to make this intuition more precise.\n",
    "\n",
    "$$\\frac{o(A|D)}{o(A)} = \\frac{p(D|A)}{p(D|B)}$$\n",
    "\n",
    "If the fraction is greater than 1 then the probability of the data under condition A is more likely than under condition B and vice versa. \n",
    "\n",
    "Here, our two hypothesis are that oliver was either at or not at the crime scene.\n",
    "\n",
    "If Oliver was there then the probabiliy of seeing the 'AB' type blood is 1%.\n",
    "\n",
    "If oliver was not there then the probability of seeing the blood is equal to 2(0.6)(0.01) = 1.2%\n",
    "\n",
    "This is because it is very easy to explain the 'O' type blood without oliver needing to be there. If Oliver had 'AB' Type blood then the liklihood of seeing 'O' would be 0.6 but the liklihood of seeing the 'AB' blood would still be 1.2%, which is far less likely and more incriminating."
   ]
  }
 ],
 "metadata": {
  "kernelspec": {
   "display_name": "Python 3",
   "language": "python",
   "name": "python3"
  },
  "language_info": {
   "codemirror_mode": {
    "name": "ipython",
    "version": 3
   },
   "file_extension": ".py",
   "mimetype": "text/x-python",
   "name": "python",
   "nbconvert_exporter": "python",
   "pygments_lexer": "ipython3",
   "version": "3.7.1"
  }
 },
 "nbformat": 4,
 "nbformat_minor": 2
}
