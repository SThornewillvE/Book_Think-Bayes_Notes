{
 "cells": [
  {
   "cell_type": "markdown",
   "metadata": {},
   "source": [
    "# The M&M problem\n",
    "\n",
    "Prof. Downey has written a class in the thinkbayes package that allows for the formulation of basic Bayesian problems that he'll be using extensively in his book. This example serves as an opportunity it use it once. \n",
    "\n",
    "The mixes of colors in M&M packets between 1994 and 1996 are different. \n",
    "\n",
    "A friend has a one of each of these kinds of bags and draws a yellow and a green M&M. Whats the probability that yellow comes from 1994 and the green ones comes from 1996?\n",
    "\n",
    "Note that the code in this notebook is not my own, I am writing it out for my own good."
   ]
  },
  {
   "cell_type": "code",
   "execution_count": 1,
   "metadata": {},
   "outputs": [],
   "source": [
    "from thinkbayes2 import Suite"
   ]
  },
  {
   "cell_type": "code",
   "execution_count": 2,
   "metadata": {},
   "outputs": [],
   "source": [
    "class M_and_M(Suite):\n",
    "    # Encode the mixes for the packages in 1994 and 1996\n",
    "    mix94 = dict(brown=30,\n",
    "                yellow=20,\n",
    "                red=20,\n",
    "                green=10,\n",
    "                orange=10,\n",
    "                tan=10)\n",
    "\n",
    "    mix96 = dict(blue=24,\n",
    "                green=20,\n",
    "                orange=16,\n",
    "                yellow=14,\n",
    "                red=13,\n",
    "                brown=13)\n",
    "    \n",
    "    # Create the two hypotheses\n",
    "    hypoA = dict(bag1=mix94, bag2=mix96)\n",
    "    hypoB = dict(bag1=mix96, bag2=mix94)\n",
    "    hypotheses = dict(A=hypoA, B=hypoB)\n",
    "    \n",
    "    def Likelihood(self, data, hypo):\n",
    "        \"\"\"Computes the likelihood of the data under the hypothesis.\n",
    "\n",
    "        hypo: string hypothesis (A or B)\n",
    "        data: tuple of string bag, string color\n",
    "        \"\"\"\n",
    "        bag, color = data\n",
    "        mix = self.hypotheses[hypo][bag]\n",
    "        like = mix[color]\n",
    "        return like"
   ]
  },
  {
   "cell_type": "code",
   "execution_count": 3,
   "metadata": {},
   "outputs": [],
   "source": [
    "suite = M_and_M('AB')"
   ]
  },
  {
   "cell_type": "code",
   "execution_count": 4,
   "metadata": {},
   "outputs": [
    {
     "name": "stdout",
     "output_type": "stream",
     "text": [
      "A 0.7407407407407407\n",
      "B 0.2592592592592592\n"
     ]
    }
   ],
   "source": [
    "suite.Update(('bag1', 'yellow'))\n",
    "suite.Update(('bag2', 'green'))\n",
    "\n",
    "suite.Print()"
   ]
  }
 ],
 "metadata": {
  "kernelspec": {
   "display_name": "Python 3",
   "language": "python",
   "name": "python3"
  },
  "language_info": {
   "codemirror_mode": {
    "name": "ipython",
    "version": 3
   },
   "file_extension": ".py",
   "mimetype": "text/x-python",
   "name": "python",
   "nbconvert_exporter": "python",
   "pygments_lexer": "ipython3",
   "version": "3.7.1"
  }
 },
 "nbformat": 4,
 "nbformat_minor": 2
}
