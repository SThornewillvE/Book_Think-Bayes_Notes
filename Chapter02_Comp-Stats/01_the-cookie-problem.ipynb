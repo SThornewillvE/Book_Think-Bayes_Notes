{
 "cells": [
  {
   "cell_type": "markdown",
   "metadata": {},
   "source": [
    "# The Cookie Problem\n",
    "\n",
    "In chapter 1 the cookie problem was outlined. In this notebook we want to see if we can find a computational approach to solving the problem.\n",
    "\n",
    "Let's recap for revision:\n",
    "\n",
    "Consider having two bowls, A and B, each with its own probability of drawing either a vanilla(v) or chocolate(c) cookie as shown in the table below,\n",
    "\n",
    "bowl | vanilla | chocolate\n",
    "--- | --- | --- \n",
    "A  | 30 | 10\n",
    "B  | 20 | 20\n",
    "\n",
    "If you pick a bowl at random and choose a vanilla cookie, what bowl is most likely?\n",
    "\n",
    "If we use the table method from the end of chapter 1, we get a table like this\n",
    "\n",
    "hypothesis | prior | liklihood | prior \\* liklihood | posterior\n",
    "--- | --- | --- | --- | ---\n",
    "A  | 1/2 | 3/4 | 3/8 | 0.6\n",
    "B  | 1/2 | 2/4 | 2/8 | 0.4\n",
    "\n",
    "Where the total liklihood is 3/8 + 2/8 = 5/8"
   ]
  },
  {
   "cell_type": "markdown",
   "metadata": {},
   "source": [
    "## My own solution code\n",
    "\n",
    "Although it is nice that Prof. Downey provides us with a package we can use. I also like to create my own messy code!"
   ]
  },
  {
   "cell_type": "code",
   "execution_count": 1,
   "metadata": {},
   "outputs": [
    {
     "data": {
      "text/html": [
       "<div>\n",
       "<style scoped>\n",
       "    .dataframe tbody tr th:only-of-type {\n",
       "        vertical-align: middle;\n",
       "    }\n",
       "\n",
       "    .dataframe tbody tr th {\n",
       "        vertical-align: top;\n",
       "    }\n",
       "\n",
       "    .dataframe thead th {\n",
       "        text-align: right;\n",
       "    }\n",
       "</style>\n",
       "<table border=\"1\" class=\"dataframe\">\n",
       "  <thead>\n",
       "    <tr style=\"text-align: right;\">\n",
       "      <th></th>\n",
       "      <th>Bowls</th>\n",
       "      <th>Priors</th>\n",
       "    </tr>\n",
       "  </thead>\n",
       "  <tbody>\n",
       "    <tr>\n",
       "      <th>0</th>\n",
       "      <td>Bowl_A</td>\n",
       "      <td>0.5</td>\n",
       "    </tr>\n",
       "    <tr>\n",
       "      <th>1</th>\n",
       "      <td>Bowl_B</td>\n",
       "      <td>0.5</td>\n",
       "    </tr>\n",
       "  </tbody>\n",
       "</table>\n",
       "</div>"
      ],
      "text/plain": [
       "    Bowls  Priors\n",
       "0  Bowl_A     0.5\n",
       "1  Bowl_B     0.5"
      ]
     },
     "execution_count": 1,
     "metadata": {},
     "output_type": "execute_result"
    }
   ],
   "source": [
    "import pandas as pd\n",
    "\n",
    "# Create set of bowls\n",
    "bowl_list =  [\"Bowl_A\", \"Bowl_B\"]\n",
    "\n",
    "# Create initial dataframe\n",
    "df_dict = {\"Bowls\": bowl_list,\n",
    "           \"Priors\": [1/len(bowl_list) for i in bowl_list]}\n",
    "\n",
    "df_bowls = pd.DataFrame(df_dict)\n",
    "\n",
    "df_bowls"
   ]
  },
  {
   "cell_type": "code",
   "execution_count": 2,
   "metadata": {},
   "outputs": [
    {
     "data": {
      "text/html": [
       "<div>\n",
       "<style scoped>\n",
       "    .dataframe tbody tr th:only-of-type {\n",
       "        vertical-align: middle;\n",
       "    }\n",
       "\n",
       "    .dataframe tbody tr th {\n",
       "        vertical-align: top;\n",
       "    }\n",
       "\n",
       "    .dataframe thead th {\n",
       "        text-align: right;\n",
       "    }\n",
       "</style>\n",
       "<table border=\"1\" class=\"dataframe\">\n",
       "  <thead>\n",
       "    <tr style=\"text-align: right;\">\n",
       "      <th></th>\n",
       "      <th>Bowls</th>\n",
       "      <th>Priors</th>\n",
       "      <th>Liklihoods</th>\n",
       "    </tr>\n",
       "  </thead>\n",
       "  <tbody>\n",
       "    <tr>\n",
       "      <th>0</th>\n",
       "      <td>Bowl_A</td>\n",
       "      <td>0.5</td>\n",
       "      <td>0.75</td>\n",
       "    </tr>\n",
       "    <tr>\n",
       "      <th>1</th>\n",
       "      <td>Bowl_B</td>\n",
       "      <td>0.5</td>\n",
       "      <td>0.50</td>\n",
       "    </tr>\n",
       "  </tbody>\n",
       "</table>\n",
       "</div>"
      ],
      "text/plain": [
       "    Bowls  Priors  Liklihoods\n",
       "0  Bowl_A     0.5        0.75\n",
       "1  Bowl_B     0.5        0.50"
      ]
     },
     "execution_count": 2,
     "metadata": {},
     "output_type": "execute_result"
    }
   ],
   "source": [
    "# Get the liklihood of drawing from each bowl\n",
    "df_bowls[\"Liklihoods\"] = pd.Series([3/4, 1/2])\n",
    "\n",
    "df_bowls"
   ]
  },
  {
   "cell_type": "code",
   "execution_count": 3,
   "metadata": {},
   "outputs": [
    {
     "data": {
      "text/html": [
       "<div>\n",
       "<style scoped>\n",
       "    .dataframe tbody tr th:only-of-type {\n",
       "        vertical-align: middle;\n",
       "    }\n",
       "\n",
       "    .dataframe tbody tr th {\n",
       "        vertical-align: top;\n",
       "    }\n",
       "\n",
       "    .dataframe thead th {\n",
       "        text-align: right;\n",
       "    }\n",
       "</style>\n",
       "<table border=\"1\" class=\"dataframe\">\n",
       "  <thead>\n",
       "    <tr style=\"text-align: right;\">\n",
       "      <th></th>\n",
       "      <th>Bowls</th>\n",
       "      <th>Priors</th>\n",
       "      <th>Liklihoods</th>\n",
       "      <th>P_times_L</th>\n",
       "    </tr>\n",
       "  </thead>\n",
       "  <tbody>\n",
       "    <tr>\n",
       "      <th>0</th>\n",
       "      <td>Bowl_A</td>\n",
       "      <td>0.5</td>\n",
       "      <td>0.75</td>\n",
       "      <td>0.375</td>\n",
       "    </tr>\n",
       "    <tr>\n",
       "      <th>1</th>\n",
       "      <td>Bowl_B</td>\n",
       "      <td>0.5</td>\n",
       "      <td>0.50</td>\n",
       "      <td>0.250</td>\n",
       "    </tr>\n",
       "  </tbody>\n",
       "</table>\n",
       "</div>"
      ],
      "text/plain": [
       "    Bowls  Priors  Liklihoods  P_times_L\n",
       "0  Bowl_A     0.5        0.75      0.375\n",
       "1  Bowl_B     0.5        0.50      0.250"
      ]
     },
     "execution_count": 3,
     "metadata": {},
     "output_type": "execute_result"
    }
   ],
   "source": [
    "# Get the unnormalised priors\n",
    "df_bowls[\"P_times_L\"] = df_bowls.Priors * df_bowls.Liklihoods\n",
    "\n",
    "df_bowls"
   ]
  },
  {
   "cell_type": "code",
   "execution_count": 4,
   "metadata": {},
   "outputs": [
    {
     "data": {
      "text/html": [
       "<div>\n",
       "<style scoped>\n",
       "    .dataframe tbody tr th:only-of-type {\n",
       "        vertical-align: middle;\n",
       "    }\n",
       "\n",
       "    .dataframe tbody tr th {\n",
       "        vertical-align: top;\n",
       "    }\n",
       "\n",
       "    .dataframe thead th {\n",
       "        text-align: right;\n",
       "    }\n",
       "</style>\n",
       "<table border=\"1\" class=\"dataframe\">\n",
       "  <thead>\n",
       "    <tr style=\"text-align: right;\">\n",
       "      <th></th>\n",
       "      <th>Bowls</th>\n",
       "      <th>Priors</th>\n",
       "      <th>Liklihoods</th>\n",
       "      <th>P_times_L</th>\n",
       "      <th>Posterior</th>\n",
       "    </tr>\n",
       "  </thead>\n",
       "  <tbody>\n",
       "    <tr>\n",
       "      <th>0</th>\n",
       "      <td>Bowl_A</td>\n",
       "      <td>0.5</td>\n",
       "      <td>0.75</td>\n",
       "      <td>0.375</td>\n",
       "      <td>0.6</td>\n",
       "    </tr>\n",
       "    <tr>\n",
       "      <th>1</th>\n",
       "      <td>Bowl_B</td>\n",
       "      <td>0.5</td>\n",
       "      <td>0.50</td>\n",
       "      <td>0.250</td>\n",
       "      <td>0.4</td>\n",
       "    </tr>\n",
       "  </tbody>\n",
       "</table>\n",
       "</div>"
      ],
      "text/plain": [
       "    Bowls  Priors  Liklihoods  P_times_L  Posterior\n",
       "0  Bowl_A     0.5        0.75      0.375        0.6\n",
       "1  Bowl_B     0.5        0.50      0.250        0.4"
      ]
     },
     "execution_count": 4,
     "metadata": {},
     "output_type": "execute_result"
    }
   ],
   "source": [
    "# Get the total liklihood\n",
    "tot_liklihood = df_bowls.P_times_L.sum()\n",
    "\n",
    "df_bowls[\"Posterior\"] = df_bowls[\"P_times_L\"] / tot_liklihood\n",
    "\n",
    "df_bowls"
   ]
  },
  {
   "cell_type": "markdown",
   "metadata": {},
   "source": [
    "We can see that some quick computations with pandas can help us to create the table we are looking for. We could also easily add a third bowl if we wanted and it would be pretty easy as long as we knew the probability of drawing a vanilla cookie from that bowl."
   ]
  },
  {
   "cell_type": "markdown",
   "metadata": {},
   "source": [
    "## Book Solution\n",
    "\n",
    "Above is my own code where I think about how I would solve this problem myself by hand. Beneath is the solution given by Prof. Downey:"
   ]
  },
  {
   "cell_type": "code",
   "execution_count": 5,
   "metadata": {},
   "outputs": [
    {
     "data": {
      "text/plain": [
       "Pmf({'Bowl A': 0.5, 'Bowl B': 0.5})"
      ]
     },
     "execution_count": 5,
     "metadata": {},
     "output_type": "execute_result"
    }
   ],
   "source": [
    "from thinkbayes2 import Pmf\n",
    "\n",
    "# Create instance of pmf\n",
    "pmf = Pmf()\n",
    "pmf.Set('Bowl A', 0.5)\n",
    "pmf.Set('Bowl B', 0.5)  # Note that these contain the prior distributions\n",
    "\n",
    "pmf"
   ]
  },
  {
   "cell_type": "markdown",
   "metadata": {},
   "source": [
    "Now that we've set our prior distributions, it's time to update those priors with the likihoods of drawing a vanilla cookie."
   ]
  },
  {
   "cell_type": "code",
   "execution_count": 6,
   "metadata": {},
   "outputs": [
    {
     "data": {
      "text/plain": [
       "Pmf({'Bowl A': 0.375, 'Bowl B': 0.25})"
      ]
     },
     "execution_count": 6,
     "metadata": {},
     "output_type": "execute_result"
    }
   ],
   "source": [
    "# Update priors with new data that we drew vanilla\n",
    "pmf.Mult('Bowl A', 3/4)\n",
    "pmf.Mult('Bowl B', 1/2)\n",
    "\n",
    "pmf"
   ]
  },
  {
   "cell_type": "code",
   "execution_count": 7,
   "metadata": {},
   "outputs": [
    {
     "data": {
      "text/plain": [
       "0.6"
      ]
     },
     "execution_count": 7,
     "metadata": {},
     "output_type": "execute_result"
    }
   ],
   "source": [
    "0.375 / (0.375+0.25)"
   ]
  },
  {
   "cell_type": "markdown",
   "metadata": {},
   "source": [
    "However, now the values aren't normalised, we need to normalise them now in order to account for the fact that we could draw the vanilla cookie from the other jar.\n",
    "\n",
    "We're allowed to do this step because our hypotheses are mutually exclusive -you cant draw from a little of A and a little of B at the same time- and they are collectively exhaustive, there is no mysterious bowl C."
   ]
  },
  {
   "cell_type": "code",
   "execution_count": 8,
   "metadata": {},
   "outputs": [
    {
     "name": "stdout",
     "output_type": "stream",
     "text": [
      "0.6000000000000001\n"
     ]
    }
   ],
   "source": [
    "# Normalise data\n",
    "pmf.Normalize()\n",
    "\n",
    "print(pmf.Prob(\"Bowl A\"))"
   ]
  },
  {
   "cell_type": "markdown",
   "metadata": {},
   "source": [
    "We can see here that we are still using the table method for above, but we've got a simple version in code now!"
   ]
  },
  {
   "cell_type": "markdown",
   "metadata": {},
   "source": [
    "## The Bayesian Famework \n",
    "\n",
    "Once again, the code here is from the book but I want to implement it because it's fun.\n",
    "\n",
    "Prof. Downey wants to create a general cookie class that we can update as necessary."
   ]
  },
  {
   "cell_type": "code",
   "execution_count": 9,
   "metadata": {},
   "outputs": [],
   "source": [
    "class Cookie(Pmf):\n",
    "    \"\"\"\n",
    "    Creates general class for the cookie problem.\n",
    "    \"\"\"\n",
    "    \n",
    "    mixes = {'Bowl A': dict(vanilla=0.75, chocolate=0.25),\n",
    "             'Bowl B': dict(vanilla=0.5, chocolate=0.5)}\n",
    "    \n",
    "    def __init__(self, hypos):\n",
    "        Pmf.__init__(self)  # This has to be done to initialise the Pmf part of the class\n",
    "        for hypo in hypos:\n",
    "            self.Set(hypo, 1)  # Note that his is possible because we are inheriting from the Pmf class\n",
    "        self.Normalize()\n",
    "        \n",
    "    def Update(self, data):\n",
    "        \"\"\"\n",
    "        Updates liklihoods based on new data and normalises automatically.\n",
    "        \"\"\"\n",
    "        for hypo in self.Values():\n",
    "            like = self.Likelihood(data, hypo)\n",
    "            self.Mult(hypo, like)\n",
    "        self.Normalize()\n",
    "        \n",
    "    def Likelihood(self, data, hypo):\n",
    "        mix = self.mixes[hypo]\n",
    "        like = mix[data]\n",
    "        return like"
   ]
  },
  {
   "cell_type": "code",
   "execution_count": 10,
   "metadata": {},
   "outputs": [],
   "source": [
    "# Define our hypothesis\n",
    "hypos = [\"Bowl A\", \"Bowl B\"]\n",
    "\n",
    "# Create instance of our class \n",
    "cookies = Cookie(hypos)"
   ]
  },
  {
   "cell_type": "code",
   "execution_count": 11,
   "metadata": {},
   "outputs": [
    {
     "name": "stdout",
     "output_type": "stream",
     "text": [
      "Bowl A 0.6000000000000001\n",
      "Bowl B 0.4\n"
     ]
    },
    {
     "data": {
      "text/plain": [
       "[None, None]"
      ]
     },
     "execution_count": 11,
     "metadata": {},
     "output_type": "execute_result"
    }
   ],
   "source": [
    "# Update our bowl based on vanilla cookie\n",
    "cookies.Update('vanilla')\n",
    "\n",
    "# Print posterior probability for each hypothesis\n",
    "[print(hypo, prob) for hypo, prob in cookies.Items()]"
   ]
  },
  {
   "cell_type": "markdown",
   "metadata": {},
   "source": [
    "The most fun part about this example is that as we continue to draw vanilla cookies, the probability that it comes from A rises since it had more cookies to start with. Which is pretty interesting."
   ]
  }
 ],
 "metadata": {
  "kernelspec": {
   "display_name": "Python 3",
   "language": "python",
   "name": "python3"
  },
  "language_info": {
   "codemirror_mode": {
    "name": "ipython",
    "version": 3
   },
   "file_extension": ".py",
   "mimetype": "text/x-python",
   "name": "python",
   "nbconvert_exporter": "python",
   "pygments_lexer": "ipython3",
   "version": "3.7.1"
  }
 },
 "nbformat": 4,
 "nbformat_minor": 2
}
